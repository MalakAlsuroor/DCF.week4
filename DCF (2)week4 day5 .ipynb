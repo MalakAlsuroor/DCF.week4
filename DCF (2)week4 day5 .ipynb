{
 "cells": [
  {
   "cell_type": "code",
   "execution_count": 1,
   "metadata": {
    "executionInfo": {
     "elapsed": 64,
     "status": "ok",
     "timestamp": 1635850469652,
     "user": {
      "displayName": "Xiaomei Mi",
      "photoUrl": "https://lh3.googleusercontent.com/a-/AOh14Giek9R9Gc9bcxVEHezlQMFqyWdaHHB0HXnOXKM=s64",
      "userId": "09696294332220019682"
     },
     "user_tz": -480
    },
    "id": "qtOVz_h15QyP"
   },
   "outputs": [],
   "source": [
    "import pandas as pd\n",
    "import numpy as np"
   ]
  },
  {
   "cell_type": "code",
   "execution_count": 2,
   "metadata": {
    "executionInfo": {
     "elapsed": 63,
     "status": "ok",
     "timestamp": 1635850469653,
     "user": {
      "displayName": "Xiaomei Mi",
      "photoUrl": "https://lh3.googleusercontent.com/a-/AOh14Giek9R9Gc9bcxVEHezlQMFqyWdaHHB0HXnOXKM=s64",
      "userId": "09696294332220019682"
     },
     "user_tz": -480
    },
    "id": "X2YCXoS26HdG"
   },
   "outputs": [],
   "source": [
    "revenue_growth_factor = 0.18\n",
    "EBITDA_margin_rate = 0.45\n",
    "tax_rate = - 0.21\n",
    "capital_expenditures_rate = - 0.03\n",
    "working_capital_increase_rate = - 0.06\n",
    "EDBITA_exit_multiple = 32.7\n",
    "discount_factor = 0.94"
   ]
  },
  {
   "cell_type": "code",
   "execution_count": 3,
   "metadata": {
    "colab": {
     "base_uri": "https://localhost:8080/"
    },
    "executionInfo": {
     "elapsed": 61,
     "status": "ok",
     "timestamp": 1635850469653,
     "user": {
      "displayName": "Xiaomei Mi",
      "photoUrl": "https://lh3.googleusercontent.com/a-/AOh14Giek9R9Gc9bcxVEHezlQMFqyWdaHHB0HXnOXKM=s64",
      "userId": "09696294332220019682"
     },
     "user_tz": -480
    },
    "id": "YlYk2W_j8ieE",
    "outputId": "90781918-7440-4198-8c74-2cdad867ad87"
   },
   "outputs": [
    {
     "data": {
      "text/plain": [
       "DatetimeIndex(['2021-12-31', '2022-12-31', '2023-12-31', '2024-12-31',\n",
       "               '2025-12-31', '2026-12-31', '2027-12-31', '2028-12-31',\n",
       "               '2029-12-31', '2030-12-31', '2031-12-31', '2032-12-31'],\n",
       "              dtype='datetime64[ns]', freq='A-DEC')"
      ]
     },
     "execution_count": 3,
     "metadata": {},
     "output_type": "execute_result"
    }
   ],
   "source": [
    "index = pd.date_range('2021', periods=12, freq='Y')\n",
    "index"
   ]
  },
  {
   "cell_type": "code",
   "execution_count": 4,
   "metadata": {
    "colab": {
     "base_uri": "https://localhost:8080/",
     "height": 421
    },
    "executionInfo": {
     "elapsed": 51,
     "status": "ok",
     "timestamp": 1635850469653,
     "user": {
      "displayName": "Xiaomei Mi",
      "photoUrl": "https://lh3.googleusercontent.com/a-/AOh14Giek9R9Gc9bcxVEHezlQMFqyWdaHHB0HXnOXKM=s64",
      "userId": "09696294332220019682"
     },
     "user_tz": -480
    },
    "id": "ZNn9YxWI65K7",
    "outputId": "26332afd-e77a-45fa-cd20-43ff3e49891d"
   },
   "outputs": [
    {
     "data": {
      "text/html": [
       "<div>\n",
       "<style scoped>\n",
       "    .dataframe tbody tr th:only-of-type {\n",
       "        vertical-align: middle;\n",
       "    }\n",
       "\n",
       "    .dataframe tbody tr th {\n",
       "        vertical-align: top;\n",
       "    }\n",
       "\n",
       "    .dataframe thead th {\n",
       "        text-align: right;\n",
       "    }\n",
       "</style>\n",
       "<table border=\"1\" class=\"dataframe\">\n",
       "  <thead>\n",
       "    <tr style=\"text-align: right;\">\n",
       "      <th></th>\n",
       "      <th>revenue</th>\n",
       "    </tr>\n",
       "  </thead>\n",
       "  <tbody>\n",
       "    <tr>\n",
       "      <th>2021-12-31</th>\n",
       "      <td>222</td>\n",
       "    </tr>\n",
       "    <tr>\n",
       "      <th>2022-12-31</th>\n",
       "      <td>NaN</td>\n",
       "    </tr>\n",
       "    <tr>\n",
       "      <th>2023-12-31</th>\n",
       "      <td>NaN</td>\n",
       "    </tr>\n",
       "    <tr>\n",
       "      <th>2024-12-31</th>\n",
       "      <td>NaN</td>\n",
       "    </tr>\n",
       "    <tr>\n",
       "      <th>2025-12-31</th>\n",
       "      <td>NaN</td>\n",
       "    </tr>\n",
       "    <tr>\n",
       "      <th>2026-12-31</th>\n",
       "      <td>NaN</td>\n",
       "    </tr>\n",
       "    <tr>\n",
       "      <th>2027-12-31</th>\n",
       "      <td>NaN</td>\n",
       "    </tr>\n",
       "    <tr>\n",
       "      <th>2028-12-31</th>\n",
       "      <td>NaN</td>\n",
       "    </tr>\n",
       "    <tr>\n",
       "      <th>2029-12-31</th>\n",
       "      <td>NaN</td>\n",
       "    </tr>\n",
       "    <tr>\n",
       "      <th>2030-12-31</th>\n",
       "      <td>NaN</td>\n",
       "    </tr>\n",
       "    <tr>\n",
       "      <th>2031-12-31</th>\n",
       "      <td>NaN</td>\n",
       "    </tr>\n",
       "    <tr>\n",
       "      <th>2032-12-31</th>\n",
       "      <td>NaN</td>\n",
       "    </tr>\n",
       "  </tbody>\n",
       "</table>\n",
       "</div>"
      ],
      "text/plain": [
       "           revenue\n",
       "2021-12-31     222\n",
       "2022-12-31     NaN\n",
       "2023-12-31     NaN\n",
       "2024-12-31     NaN\n",
       "2025-12-31     NaN\n",
       "2026-12-31     NaN\n",
       "2027-12-31     NaN\n",
       "2028-12-31     NaN\n",
       "2029-12-31     NaN\n",
       "2030-12-31     NaN\n",
       "2031-12-31     NaN\n",
       "2032-12-31     NaN"
      ]
     },
     "execution_count": 4,
     "metadata": {},
     "output_type": "execute_result"
    }
   ],
   "source": [
    "df = pd.DataFrame(index = index, columns = ['revenue'])\n",
    "df['revenue'][0] = 222\n",
    "df"
   ]
  },
  {
   "cell_type": "code",
   "execution_count": 5,
   "metadata": {
    "colab": {
     "base_uri": "https://localhost:8080/",
     "height": 421
    },
    "executionInfo": {
     "elapsed": 49,
     "status": "ok",
     "timestamp": 1635850469654,
     "user": {
      "displayName": "Xiaomei Mi",
      "photoUrl": "https://lh3.googleusercontent.com/a-/AOh14Giek9R9Gc9bcxVEHezlQMFqyWdaHHB0HXnOXKM=s64",
      "userId": "09696294332220019682"
     },
     "user_tz": -480
    },
    "id": "HLjH-R0z9JkT",
    "outputId": "8d5f6651-3f35-45e0-bbef-0a5ce9057842"
   },
   "outputs": [
    {
     "data": {
      "text/html": [
       "<div>\n",
       "<style scoped>\n",
       "    .dataframe tbody tr th:only-of-type {\n",
       "        vertical-align: middle;\n",
       "    }\n",
       "\n",
       "    .dataframe tbody tr th {\n",
       "        vertical-align: top;\n",
       "    }\n",
       "\n",
       "    .dataframe thead th {\n",
       "        text-align: right;\n",
       "    }\n",
       "</style>\n",
       "<table border=\"1\" class=\"dataframe\">\n",
       "  <thead>\n",
       "    <tr style=\"text-align: right;\">\n",
       "      <th></th>\n",
       "      <th>revenue</th>\n",
       "    </tr>\n",
       "  </thead>\n",
       "  <tbody>\n",
       "    <tr>\n",
       "      <th>2021-12-31</th>\n",
       "      <td>222</td>\n",
       "    </tr>\n",
       "    <tr>\n",
       "      <th>2022-12-31</th>\n",
       "      <td>261.96</td>\n",
       "    </tr>\n",
       "    <tr>\n",
       "      <th>2023-12-31</th>\n",
       "      <td>309.113</td>\n",
       "    </tr>\n",
       "    <tr>\n",
       "      <th>2024-12-31</th>\n",
       "      <td>364.753</td>\n",
       "    </tr>\n",
       "    <tr>\n",
       "      <th>2025-12-31</th>\n",
       "      <td>430.409</td>\n",
       "    </tr>\n",
       "    <tr>\n",
       "      <th>2026-12-31</th>\n",
       "      <td>507.882</td>\n",
       "    </tr>\n",
       "    <tr>\n",
       "      <th>2027-12-31</th>\n",
       "      <td>599.301</td>\n",
       "    </tr>\n",
       "    <tr>\n",
       "      <th>2028-12-31</th>\n",
       "      <td>707.175</td>\n",
       "    </tr>\n",
       "    <tr>\n",
       "      <th>2029-12-31</th>\n",
       "      <td>834.467</td>\n",
       "    </tr>\n",
       "    <tr>\n",
       "      <th>2030-12-31</th>\n",
       "      <td>984.671</td>\n",
       "    </tr>\n",
       "    <tr>\n",
       "      <th>2031-12-31</th>\n",
       "      <td>1161.91</td>\n",
       "    </tr>\n",
       "    <tr>\n",
       "      <th>2032-12-31</th>\n",
       "      <td>1371.06</td>\n",
       "    </tr>\n",
       "  </tbody>\n",
       "</table>\n",
       "</div>"
      ],
      "text/plain": [
       "            revenue\n",
       "2021-12-31      222\n",
       "2022-12-31   261.96\n",
       "2023-12-31  309.113\n",
       "2024-12-31  364.753\n",
       "2025-12-31  430.409\n",
       "2026-12-31  507.882\n",
       "2027-12-31  599.301\n",
       "2028-12-31  707.175\n",
       "2029-12-31  834.467\n",
       "2030-12-31  984.671\n",
       "2031-12-31  1161.91\n",
       "2032-12-31  1371.06"
      ]
     },
     "execution_count": 5,
     "metadata": {},
     "output_type": "execute_result"
    }
   ],
   "source": [
    "for i in range(1, len(df)):\n",
    "    df['revenue'][i] = df['revenue'][0] * (1 + revenue_growth_factor) ** (i)\n",
    "\n",
    "df"
   ]
  },
  {
   "cell_type": "code",
   "execution_count": 6,
   "metadata": {
    "colab": {
     "base_uri": "https://localhost:8080/",
     "height": 421
    },
    "executionInfo": {
     "elapsed": 47,
     "status": "ok",
     "timestamp": 1635850469654,
     "user": {
      "displayName": "Xiaomei Mi",
      "photoUrl": "https://lh3.googleusercontent.com/a-/AOh14Giek9R9Gc9bcxVEHezlQMFqyWdaHHB0HXnOXKM=s64",
      "userId": "09696294332220019682"
     },
     "user_tz": -480
    },
    "id": "oDHvbdEn9mAb",
    "outputId": "176107fb-5a41-4dac-acda-a17004aa7f6b"
   },
   "outputs": [
    {
     "data": {
      "text/html": [
       "<div>\n",
       "<style scoped>\n",
       "    .dataframe tbody tr th:only-of-type {\n",
       "        vertical-align: middle;\n",
       "    }\n",
       "\n",
       "    .dataframe tbody tr th {\n",
       "        vertical-align: top;\n",
       "    }\n",
       "\n",
       "    .dataframe thead th {\n",
       "        text-align: right;\n",
       "    }\n",
       "</style>\n",
       "<table border=\"1\" class=\"dataframe\">\n",
       "  <thead>\n",
       "    <tr style=\"text-align: right;\">\n",
       "      <th></th>\n",
       "      <th>revenue</th>\n",
       "      <th>EBITDA</th>\n",
       "    </tr>\n",
       "  </thead>\n",
       "  <tbody>\n",
       "    <tr>\n",
       "      <th>2021-12-31</th>\n",
       "      <td>222</td>\n",
       "      <td>99.9</td>\n",
       "    </tr>\n",
       "    <tr>\n",
       "      <th>2022-12-31</th>\n",
       "      <td>261.96</td>\n",
       "      <td>117.882</td>\n",
       "    </tr>\n",
       "    <tr>\n",
       "      <th>2023-12-31</th>\n",
       "      <td>309.113</td>\n",
       "      <td>139.101</td>\n",
       "    </tr>\n",
       "    <tr>\n",
       "      <th>2024-12-31</th>\n",
       "      <td>364.753</td>\n",
       "      <td>164.139</td>\n",
       "    </tr>\n",
       "    <tr>\n",
       "      <th>2025-12-31</th>\n",
       "      <td>430.409</td>\n",
       "      <td>193.684</td>\n",
       "    </tr>\n",
       "    <tr>\n",
       "      <th>2026-12-31</th>\n",
       "      <td>507.882</td>\n",
       "      <td>228.547</td>\n",
       "    </tr>\n",
       "    <tr>\n",
       "      <th>2027-12-31</th>\n",
       "      <td>599.301</td>\n",
       "      <td>269.685</td>\n",
       "    </tr>\n",
       "    <tr>\n",
       "      <th>2028-12-31</th>\n",
       "      <td>707.175</td>\n",
       "      <td>318.229</td>\n",
       "    </tr>\n",
       "    <tr>\n",
       "      <th>2029-12-31</th>\n",
       "      <td>834.467</td>\n",
       "      <td>375.51</td>\n",
       "    </tr>\n",
       "    <tr>\n",
       "      <th>2030-12-31</th>\n",
       "      <td>984.671</td>\n",
       "      <td>443.102</td>\n",
       "    </tr>\n",
       "    <tr>\n",
       "      <th>2031-12-31</th>\n",
       "      <td>1161.91</td>\n",
       "      <td>522.86</td>\n",
       "    </tr>\n",
       "    <tr>\n",
       "      <th>2032-12-31</th>\n",
       "      <td>1371.06</td>\n",
       "      <td>616.975</td>\n",
       "    </tr>\n",
       "  </tbody>\n",
       "</table>\n",
       "</div>"
      ],
      "text/plain": [
       "            revenue   EBITDA\n",
       "2021-12-31      222     99.9\n",
       "2022-12-31   261.96  117.882\n",
       "2023-12-31  309.113  139.101\n",
       "2024-12-31  364.753  164.139\n",
       "2025-12-31  430.409  193.684\n",
       "2026-12-31  507.882  228.547\n",
       "2027-12-31  599.301  269.685\n",
       "2028-12-31  707.175  318.229\n",
       "2029-12-31  834.467   375.51\n",
       "2030-12-31  984.671  443.102\n",
       "2031-12-31  1161.91   522.86\n",
       "2032-12-31  1371.06  616.975"
      ]
     },
     "execution_count": 6,
     "metadata": {},
     "output_type": "execute_result"
    }
   ],
   "source": [
    "df['EBITDA'] = df.revenue * EBITDA_margin_rate\n",
    "df"
   ]
  },
  {
   "cell_type": "code",
   "execution_count": 7,
   "metadata": {
    "colab": {
     "base_uri": "https://localhost:8080/",
     "height": 421
    },
    "executionInfo": {
     "elapsed": 44,
     "status": "ok",
     "timestamp": 1635850469654,
     "user": {
      "displayName": "Xiaomei Mi",
      "photoUrl": "https://lh3.googleusercontent.com/a-/AOh14Giek9R9Gc9bcxVEHezlQMFqyWdaHHB0HXnOXKM=s64",
      "userId": "09696294332220019682"
     },
     "user_tz": -480
    },
    "id": "qJJM41bF-LPp",
    "outputId": "e8841da1-8a4d-4954-c19e-931c1c61c8ef"
   },
   "outputs": [
    {
     "data": {
      "text/html": [
       "<div>\n",
       "<style scoped>\n",
       "    .dataframe tbody tr th:only-of-type {\n",
       "        vertical-align: middle;\n",
       "    }\n",
       "\n",
       "    .dataframe tbody tr th {\n",
       "        vertical-align: top;\n",
       "    }\n",
       "\n",
       "    .dataframe thead th {\n",
       "        text-align: right;\n",
       "    }\n",
       "</style>\n",
       "<table border=\"1\" class=\"dataframe\">\n",
       "  <thead>\n",
       "    <tr style=\"text-align: right;\">\n",
       "      <th></th>\n",
       "      <th>revenue</th>\n",
       "      <th>EBITDA</th>\n",
       "      <th>tax</th>\n",
       "    </tr>\n",
       "  </thead>\n",
       "  <tbody>\n",
       "    <tr>\n",
       "      <th>2021-12-31</th>\n",
       "      <td>222</td>\n",
       "      <td>99.9</td>\n",
       "      <td>-20.979</td>\n",
       "    </tr>\n",
       "    <tr>\n",
       "      <th>2022-12-31</th>\n",
       "      <td>261.96</td>\n",
       "      <td>117.882</td>\n",
       "      <td>-24.7552</td>\n",
       "    </tr>\n",
       "    <tr>\n",
       "      <th>2023-12-31</th>\n",
       "      <td>309.113</td>\n",
       "      <td>139.101</td>\n",
       "      <td>-29.2112</td>\n",
       "    </tr>\n",
       "    <tr>\n",
       "      <th>2024-12-31</th>\n",
       "      <td>364.753</td>\n",
       "      <td>164.139</td>\n",
       "      <td>-34.4692</td>\n",
       "    </tr>\n",
       "    <tr>\n",
       "      <th>2025-12-31</th>\n",
       "      <td>430.409</td>\n",
       "      <td>193.684</td>\n",
       "      <td>-40.6736</td>\n",
       "    </tr>\n",
       "    <tr>\n",
       "      <th>2026-12-31</th>\n",
       "      <td>507.882</td>\n",
       "      <td>228.547</td>\n",
       "      <td>-47.9949</td>\n",
       "    </tr>\n",
       "    <tr>\n",
       "      <th>2027-12-31</th>\n",
       "      <td>599.301</td>\n",
       "      <td>269.685</td>\n",
       "      <td>-56.6339</td>\n",
       "    </tr>\n",
       "    <tr>\n",
       "      <th>2028-12-31</th>\n",
       "      <td>707.175</td>\n",
       "      <td>318.229</td>\n",
       "      <td>-66.8281</td>\n",
       "    </tr>\n",
       "    <tr>\n",
       "      <th>2029-12-31</th>\n",
       "      <td>834.467</td>\n",
       "      <td>375.51</td>\n",
       "      <td>-78.8571</td>\n",
       "    </tr>\n",
       "    <tr>\n",
       "      <th>2030-12-31</th>\n",
       "      <td>984.671</td>\n",
       "      <td>443.102</td>\n",
       "      <td>-93.0514</td>\n",
       "    </tr>\n",
       "    <tr>\n",
       "      <th>2031-12-31</th>\n",
       "      <td>1161.91</td>\n",
       "      <td>522.86</td>\n",
       "      <td>-109.801</td>\n",
       "    </tr>\n",
       "    <tr>\n",
       "      <th>2032-12-31</th>\n",
       "      <td>1371.06</td>\n",
       "      <td>616.975</td>\n",
       "      <td>-129.565</td>\n",
       "    </tr>\n",
       "  </tbody>\n",
       "</table>\n",
       "</div>"
      ],
      "text/plain": [
       "            revenue   EBITDA      tax\n",
       "2021-12-31      222     99.9  -20.979\n",
       "2022-12-31   261.96  117.882 -24.7552\n",
       "2023-12-31  309.113  139.101 -29.2112\n",
       "2024-12-31  364.753  164.139 -34.4692\n",
       "2025-12-31  430.409  193.684 -40.6736\n",
       "2026-12-31  507.882  228.547 -47.9949\n",
       "2027-12-31  599.301  269.685 -56.6339\n",
       "2028-12-31  707.175  318.229 -66.8281\n",
       "2029-12-31  834.467   375.51 -78.8571\n",
       "2030-12-31  984.671  443.102 -93.0514\n",
       "2031-12-31  1161.91   522.86 -109.801\n",
       "2032-12-31  1371.06  616.975 -129.565"
      ]
     },
     "execution_count": 7,
     "metadata": {},
     "output_type": "execute_result"
    }
   ],
   "source": [
    "df['tax'] = df['EBITDA'] * tax_rate\n",
    "df"
   ]
  },
  {
   "cell_type": "code",
   "execution_count": 8,
   "metadata": {
    "colab": {
     "base_uri": "https://localhost:8080/",
     "height": 421
    },
    "executionInfo": {
     "elapsed": 43,
     "status": "ok",
     "timestamp": 1635850469655,
     "user": {
      "displayName": "Xiaomei Mi",
      "photoUrl": "https://lh3.googleusercontent.com/a-/AOh14Giek9R9Gc9bcxVEHezlQMFqyWdaHHB0HXnOXKM=s64",
      "userId": "09696294332220019682"
     },
     "user_tz": -480
    },
    "id": "Mmu8ROqA-c4-",
    "outputId": "a26c1c8a-0b21-4b66-a792-8915f6964ed9"
   },
   "outputs": [
    {
     "data": {
      "text/html": [
       "<div>\n",
       "<style scoped>\n",
       "    .dataframe tbody tr th:only-of-type {\n",
       "        vertical-align: middle;\n",
       "    }\n",
       "\n",
       "    .dataframe tbody tr th {\n",
       "        vertical-align: top;\n",
       "    }\n",
       "\n",
       "    .dataframe thead th {\n",
       "        text-align: right;\n",
       "    }\n",
       "</style>\n",
       "<table border=\"1\" class=\"dataframe\">\n",
       "  <thead>\n",
       "    <tr style=\"text-align: right;\">\n",
       "      <th></th>\n",
       "      <th>revenue</th>\n",
       "      <th>EBITDA</th>\n",
       "      <th>tax</th>\n",
       "      <th>capital_expenditures</th>\n",
       "    </tr>\n",
       "  </thead>\n",
       "  <tbody>\n",
       "    <tr>\n",
       "      <th>2021-12-31</th>\n",
       "      <td>222</td>\n",
       "      <td>99.9</td>\n",
       "      <td>-20.979</td>\n",
       "      <td>-6.66</td>\n",
       "    </tr>\n",
       "    <tr>\n",
       "      <th>2022-12-31</th>\n",
       "      <td>261.96</td>\n",
       "      <td>117.882</td>\n",
       "      <td>-24.7552</td>\n",
       "      <td>-7.8588</td>\n",
       "    </tr>\n",
       "    <tr>\n",
       "      <th>2023-12-31</th>\n",
       "      <td>309.113</td>\n",
       "      <td>139.101</td>\n",
       "      <td>-29.2112</td>\n",
       "      <td>-9.27338</td>\n",
       "    </tr>\n",
       "    <tr>\n",
       "      <th>2024-12-31</th>\n",
       "      <td>364.753</td>\n",
       "      <td>164.139</td>\n",
       "      <td>-34.4692</td>\n",
       "      <td>-10.9426</td>\n",
       "    </tr>\n",
       "    <tr>\n",
       "      <th>2025-12-31</th>\n",
       "      <td>430.409</td>\n",
       "      <td>193.684</td>\n",
       "      <td>-40.6736</td>\n",
       "      <td>-12.9123</td>\n",
       "    </tr>\n",
       "    <tr>\n",
       "      <th>2026-12-31</th>\n",
       "      <td>507.882</td>\n",
       "      <td>228.547</td>\n",
       "      <td>-47.9949</td>\n",
       "      <td>-15.2365</td>\n",
       "    </tr>\n",
       "    <tr>\n",
       "      <th>2027-12-31</th>\n",
       "      <td>599.301</td>\n",
       "      <td>269.685</td>\n",
       "      <td>-56.6339</td>\n",
       "      <td>-17.979</td>\n",
       "    </tr>\n",
       "    <tr>\n",
       "      <th>2028-12-31</th>\n",
       "      <td>707.175</td>\n",
       "      <td>318.229</td>\n",
       "      <td>-66.8281</td>\n",
       "      <td>-21.2153</td>\n",
       "    </tr>\n",
       "    <tr>\n",
       "      <th>2029-12-31</th>\n",
       "      <td>834.467</td>\n",
       "      <td>375.51</td>\n",
       "      <td>-78.8571</td>\n",
       "      <td>-25.034</td>\n",
       "    </tr>\n",
       "    <tr>\n",
       "      <th>2030-12-31</th>\n",
       "      <td>984.671</td>\n",
       "      <td>443.102</td>\n",
       "      <td>-93.0514</td>\n",
       "      <td>-29.5401</td>\n",
       "    </tr>\n",
       "    <tr>\n",
       "      <th>2031-12-31</th>\n",
       "      <td>1161.91</td>\n",
       "      <td>522.86</td>\n",
       "      <td>-109.801</td>\n",
       "      <td>-34.8573</td>\n",
       "    </tr>\n",
       "    <tr>\n",
       "      <th>2032-12-31</th>\n",
       "      <td>1371.06</td>\n",
       "      <td>616.975</td>\n",
       "      <td>-129.565</td>\n",
       "      <td>-41.1317</td>\n",
       "    </tr>\n",
       "  </tbody>\n",
       "</table>\n",
       "</div>"
      ],
      "text/plain": [
       "            revenue   EBITDA      tax capital_expenditures\n",
       "2021-12-31      222     99.9  -20.979                -6.66\n",
       "2022-12-31   261.96  117.882 -24.7552              -7.8588\n",
       "2023-12-31  309.113  139.101 -29.2112             -9.27338\n",
       "2024-12-31  364.753  164.139 -34.4692             -10.9426\n",
       "2025-12-31  430.409  193.684 -40.6736             -12.9123\n",
       "2026-12-31  507.882  228.547 -47.9949             -15.2365\n",
       "2027-12-31  599.301  269.685 -56.6339              -17.979\n",
       "2028-12-31  707.175  318.229 -66.8281             -21.2153\n",
       "2029-12-31  834.467   375.51 -78.8571              -25.034\n",
       "2030-12-31  984.671  443.102 -93.0514             -29.5401\n",
       "2031-12-31  1161.91   522.86 -109.801             -34.8573\n",
       "2032-12-31  1371.06  616.975 -129.565             -41.1317"
      ]
     },
     "execution_count": 8,
     "metadata": {},
     "output_type": "execute_result"
    }
   ],
   "source": [
    "df['capital_expenditures'] = df['revenue'] * capital_expenditures_rate \n",
    "df"
   ]
  },
  {
   "cell_type": "code",
   "execution_count": 9,
   "metadata": {
    "colab": {
     "base_uri": "https://localhost:8080/",
     "height": 421
    },
    "executionInfo": {
     "elapsed": 40,
     "status": "ok",
     "timestamp": 1635850469655,
     "user": {
      "displayName": "Xiaomei Mi",
      "photoUrl": "https://lh3.googleusercontent.com/a-/AOh14Giek9R9Gc9bcxVEHezlQMFqyWdaHHB0HXnOXKM=s64",
      "userId": "09696294332220019682"
     },
     "user_tz": -480
    },
    "id": "fgUoMgIN-0de",
    "outputId": "f83bbe6c-8d57-4953-dbd3-a1a7f7edd12a"
   },
   "outputs": [
    {
     "data": {
      "text/html": [
       "<div>\n",
       "<style scoped>\n",
       "    .dataframe tbody tr th:only-of-type {\n",
       "        vertical-align: middle;\n",
       "    }\n",
       "\n",
       "    .dataframe tbody tr th {\n",
       "        vertical-align: top;\n",
       "    }\n",
       "\n",
       "    .dataframe thead th {\n",
       "        text-align: right;\n",
       "    }\n",
       "</style>\n",
       "<table border=\"1\" class=\"dataframe\">\n",
       "  <thead>\n",
       "    <tr style=\"text-align: right;\">\n",
       "      <th></th>\n",
       "      <th>revenue</th>\n",
       "      <th>EBITDA</th>\n",
       "      <th>tax</th>\n",
       "      <th>capital_expenditures</th>\n",
       "      <th>working_capital</th>\n",
       "    </tr>\n",
       "  </thead>\n",
       "  <tbody>\n",
       "    <tr>\n",
       "      <th>2021-12-31</th>\n",
       "      <td>222</td>\n",
       "      <td>99.9</td>\n",
       "      <td>-20.979</td>\n",
       "      <td>-6.66</td>\n",
       "      <td>-13.32</td>\n",
       "    </tr>\n",
       "    <tr>\n",
       "      <th>2022-12-31</th>\n",
       "      <td>261.96</td>\n",
       "      <td>117.882</td>\n",
       "      <td>-24.7552</td>\n",
       "      <td>-7.8588</td>\n",
       "      <td>-15.7176</td>\n",
       "    </tr>\n",
       "    <tr>\n",
       "      <th>2023-12-31</th>\n",
       "      <td>309.113</td>\n",
       "      <td>139.101</td>\n",
       "      <td>-29.2112</td>\n",
       "      <td>-9.27338</td>\n",
       "      <td>-18.5468</td>\n",
       "    </tr>\n",
       "    <tr>\n",
       "      <th>2024-12-31</th>\n",
       "      <td>364.753</td>\n",
       "      <td>164.139</td>\n",
       "      <td>-34.4692</td>\n",
       "      <td>-10.9426</td>\n",
       "      <td>-21.8852</td>\n",
       "    </tr>\n",
       "    <tr>\n",
       "      <th>2025-12-31</th>\n",
       "      <td>430.409</td>\n",
       "      <td>193.684</td>\n",
       "      <td>-40.6736</td>\n",
       "      <td>-12.9123</td>\n",
       "      <td>-25.8245</td>\n",
       "    </tr>\n",
       "    <tr>\n",
       "      <th>2026-12-31</th>\n",
       "      <td>507.882</td>\n",
       "      <td>228.547</td>\n",
       "      <td>-47.9949</td>\n",
       "      <td>-15.2365</td>\n",
       "      <td>-30.4729</td>\n",
       "    </tr>\n",
       "    <tr>\n",
       "      <th>2027-12-31</th>\n",
       "      <td>599.301</td>\n",
       "      <td>269.685</td>\n",
       "      <td>-56.6339</td>\n",
       "      <td>-17.979</td>\n",
       "      <td>-35.9581</td>\n",
       "    </tr>\n",
       "    <tr>\n",
       "      <th>2028-12-31</th>\n",
       "      <td>707.175</td>\n",
       "      <td>318.229</td>\n",
       "      <td>-66.8281</td>\n",
       "      <td>-21.2153</td>\n",
       "      <td>-42.4305</td>\n",
       "    </tr>\n",
       "    <tr>\n",
       "      <th>2029-12-31</th>\n",
       "      <td>834.467</td>\n",
       "      <td>375.51</td>\n",
       "      <td>-78.8571</td>\n",
       "      <td>-25.034</td>\n",
       "      <td>-50.068</td>\n",
       "    </tr>\n",
       "    <tr>\n",
       "      <th>2030-12-31</th>\n",
       "      <td>984.671</td>\n",
       "      <td>443.102</td>\n",
       "      <td>-93.0514</td>\n",
       "      <td>-29.5401</td>\n",
       "      <td>-59.0802</td>\n",
       "    </tr>\n",
       "    <tr>\n",
       "      <th>2031-12-31</th>\n",
       "      <td>1161.91</td>\n",
       "      <td>522.86</td>\n",
       "      <td>-109.801</td>\n",
       "      <td>-34.8573</td>\n",
       "      <td>-69.7147</td>\n",
       "    </tr>\n",
       "    <tr>\n",
       "      <th>2032-12-31</th>\n",
       "      <td>1371.06</td>\n",
       "      <td>616.975</td>\n",
       "      <td>-129.565</td>\n",
       "      <td>-41.1317</td>\n",
       "      <td>-82.2633</td>\n",
       "    </tr>\n",
       "  </tbody>\n",
       "</table>\n",
       "</div>"
      ],
      "text/plain": [
       "            revenue   EBITDA      tax capital_expenditures working_capital\n",
       "2021-12-31      222     99.9  -20.979                -6.66          -13.32\n",
       "2022-12-31   261.96  117.882 -24.7552              -7.8588        -15.7176\n",
       "2023-12-31  309.113  139.101 -29.2112             -9.27338        -18.5468\n",
       "2024-12-31  364.753  164.139 -34.4692             -10.9426        -21.8852\n",
       "2025-12-31  430.409  193.684 -40.6736             -12.9123        -25.8245\n",
       "2026-12-31  507.882  228.547 -47.9949             -15.2365        -30.4729\n",
       "2027-12-31  599.301  269.685 -56.6339              -17.979        -35.9581\n",
       "2028-12-31  707.175  318.229 -66.8281             -21.2153        -42.4305\n",
       "2029-12-31  834.467   375.51 -78.8571              -25.034         -50.068\n",
       "2030-12-31  984.671  443.102 -93.0514             -29.5401        -59.0802\n",
       "2031-12-31  1161.91   522.86 -109.801             -34.8573        -69.7147\n",
       "2032-12-31  1371.06  616.975 -129.565             -41.1317        -82.2633"
      ]
     },
     "execution_count": 9,
     "metadata": {},
     "output_type": "execute_result"
    }
   ],
   "source": [
    "df['working_capital'] = df['revenue'] * working_capital_increase_rate \n",
    "df"
   ]
  },
  {
   "cell_type": "code",
   "execution_count": 10,
   "metadata": {
    "colab": {
     "base_uri": "https://localhost:8080/",
     "height": 421
    },
    "executionInfo": {
     "elapsed": 37,
     "status": "ok",
     "timestamp": 1635850469655,
     "user": {
      "displayName": "Xiaomei Mi",
      "photoUrl": "https://lh3.googleusercontent.com/a-/AOh14Giek9R9Gc9bcxVEHezlQMFqyWdaHHB0HXnOXKM=s64",
      "userId": "09696294332220019682"
     },
     "user_tz": -480
    },
    "id": "hvIbbSm5AxSc",
    "outputId": "b450be30-a845-4abe-8829-d732de0fef23"
   },
   "outputs": [
    {
     "data": {
      "text/html": [
       "<div>\n",
       "<style scoped>\n",
       "    .dataframe tbody tr th:only-of-type {\n",
       "        vertical-align: middle;\n",
       "    }\n",
       "\n",
       "    .dataframe tbody tr th {\n",
       "        vertical-align: top;\n",
       "    }\n",
       "\n",
       "    .dataframe thead th {\n",
       "        text-align: right;\n",
       "    }\n",
       "</style>\n",
       "<table border=\"1\" class=\"dataframe\">\n",
       "  <thead>\n",
       "    <tr style=\"text-align: right;\">\n",
       "      <th></th>\n",
       "      <th>revenue</th>\n",
       "      <th>EBITDA</th>\n",
       "      <th>tax</th>\n",
       "      <th>capital_expenditures</th>\n",
       "      <th>working_capital</th>\n",
       "      <th>cash_flow</th>\n",
       "    </tr>\n",
       "  </thead>\n",
       "  <tbody>\n",
       "    <tr>\n",
       "      <th>2021-12-31</th>\n",
       "      <td>222</td>\n",
       "      <td>99.9</td>\n",
       "      <td>-20.979</td>\n",
       "      <td>-6.66</td>\n",
       "      <td>-13.32</td>\n",
       "      <td>58.941</td>\n",
       "    </tr>\n",
       "    <tr>\n",
       "      <th>2022-12-31</th>\n",
       "      <td>261.96</td>\n",
       "      <td>117.882</td>\n",
       "      <td>-24.7552</td>\n",
       "      <td>-7.8588</td>\n",
       "      <td>-15.7176</td>\n",
       "      <td>69.5504</td>\n",
       "    </tr>\n",
       "    <tr>\n",
       "      <th>2023-12-31</th>\n",
       "      <td>309.113</td>\n",
       "      <td>139.101</td>\n",
       "      <td>-29.2112</td>\n",
       "      <td>-9.27338</td>\n",
       "      <td>-18.5468</td>\n",
       "      <td>82.0694</td>\n",
       "    </tr>\n",
       "    <tr>\n",
       "      <th>2024-12-31</th>\n",
       "      <td>364.753</td>\n",
       "      <td>164.139</td>\n",
       "      <td>-34.4692</td>\n",
       "      <td>-10.9426</td>\n",
       "      <td>-21.8852</td>\n",
       "      <td>96.8419</td>\n",
       "    </tr>\n",
       "    <tr>\n",
       "      <th>2025-12-31</th>\n",
       "      <td>430.409</td>\n",
       "      <td>193.684</td>\n",
       "      <td>-40.6736</td>\n",
       "      <td>-12.9123</td>\n",
       "      <td>-25.8245</td>\n",
       "      <td>114.273</td>\n",
       "    </tr>\n",
       "    <tr>\n",
       "      <th>2026-12-31</th>\n",
       "      <td>507.882</td>\n",
       "      <td>228.547</td>\n",
       "      <td>-47.9949</td>\n",
       "      <td>-15.2365</td>\n",
       "      <td>-30.4729</td>\n",
       "      <td>134.843</td>\n",
       "    </tr>\n",
       "    <tr>\n",
       "      <th>2027-12-31</th>\n",
       "      <td>599.301</td>\n",
       "      <td>269.685</td>\n",
       "      <td>-56.6339</td>\n",
       "      <td>-17.979</td>\n",
       "      <td>-35.9581</td>\n",
       "      <td>159.114</td>\n",
       "    </tr>\n",
       "    <tr>\n",
       "      <th>2028-12-31</th>\n",
       "      <td>707.175</td>\n",
       "      <td>318.229</td>\n",
       "      <td>-66.8281</td>\n",
       "      <td>-21.2153</td>\n",
       "      <td>-42.4305</td>\n",
       "      <td>187.755</td>\n",
       "    </tr>\n",
       "    <tr>\n",
       "      <th>2029-12-31</th>\n",
       "      <td>834.467</td>\n",
       "      <td>375.51</td>\n",
       "      <td>-78.8571</td>\n",
       "      <td>-25.034</td>\n",
       "      <td>-50.068</td>\n",
       "      <td>221.551</td>\n",
       "    </tr>\n",
       "    <tr>\n",
       "      <th>2030-12-31</th>\n",
       "      <td>984.671</td>\n",
       "      <td>443.102</td>\n",
       "      <td>-93.0514</td>\n",
       "      <td>-29.5401</td>\n",
       "      <td>-59.0802</td>\n",
       "      <td>261.43</td>\n",
       "    </tr>\n",
       "    <tr>\n",
       "      <th>2031-12-31</th>\n",
       "      <td>1161.91</td>\n",
       "      <td>522.86</td>\n",
       "      <td>-109.801</td>\n",
       "      <td>-34.8573</td>\n",
       "      <td>-69.7147</td>\n",
       "      <td>308.488</td>\n",
       "    </tr>\n",
       "    <tr>\n",
       "      <th>2032-12-31</th>\n",
       "      <td>1371.06</td>\n",
       "      <td>616.975</td>\n",
       "      <td>-129.565</td>\n",
       "      <td>-41.1317</td>\n",
       "      <td>-82.2633</td>\n",
       "      <td>364.015</td>\n",
       "    </tr>\n",
       "  </tbody>\n",
       "</table>\n",
       "</div>"
      ],
      "text/plain": [
       "            revenue   EBITDA  ... working_capital cash_flow\n",
       "2021-12-31      222     99.9  ...          -13.32    58.941\n",
       "2022-12-31   261.96  117.882  ...        -15.7176   69.5504\n",
       "2023-12-31  309.113  139.101  ...        -18.5468   82.0694\n",
       "2024-12-31  364.753  164.139  ...        -21.8852   96.8419\n",
       "2025-12-31  430.409  193.684  ...        -25.8245   114.273\n",
       "2026-12-31  507.882  228.547  ...        -30.4729   134.843\n",
       "2027-12-31  599.301  269.685  ...        -35.9581   159.114\n",
       "2028-12-31  707.175  318.229  ...        -42.4305   187.755\n",
       "2029-12-31  834.467   375.51  ...         -50.068   221.551\n",
       "2030-12-31  984.671  443.102  ...        -59.0802    261.43\n",
       "2031-12-31  1161.91   522.86  ...        -69.7147   308.488\n",
       "2032-12-31  1371.06  616.975  ...        -82.2633   364.015\n",
       "\n",
       "[12 rows x 6 columns]"
      ]
     },
     "execution_count": 10,
     "metadata": {},
     "output_type": "execute_result"
    }
   ],
   "source": [
    "df['cash_flow'] = df['EBITDA'] + df['tax'] + df['capital_expenditures'] + df['working_capital']\n",
    "df"
   ]
  },
  {
   "cell_type": "code",
   "execution_count": 10,
   "metadata": {
    "executionInfo": {
     "elapsed": 36,
     "status": "ok",
     "timestamp": 1635850469656,
     "user": {
      "displayName": "Xiaomei Mi",
      "photoUrl": "https://lh3.googleusercontent.com/a-/AOh14Giek9R9Gc9bcxVEHezlQMFqyWdaHHB0HXnOXKM=s64",
      "userId": "09696294332220019682"
     },
     "user_tz": -480
    },
    "id": "QUO7M3JulKHX"
   },
   "outputs": [],
   "source": []
  },
  {
   "cell_type": "code",
   "execution_count": 11,
   "metadata": {
    "colab": {
     "base_uri": "https://localhost:8080/",
     "height": 421
    },
    "executionInfo": {
     "elapsed": 36,
     "status": "ok",
     "timestamp": 1635850469656,
     "user": {
      "displayName": "Xiaomei Mi",
      "photoUrl": "https://lh3.googleusercontent.com/a-/AOh14Giek9R9Gc9bcxVEHezlQMFqyWdaHHB0HXnOXKM=s64",
      "userId": "09696294332220019682"
     },
     "user_tz": -480
    },
    "id": "JWAe9ADkDHm5",
    "outputId": "c4a98060-8723-48ac-c474-0bb2f17e49cc"
   },
   "outputs": [
    {
     "data": {
      "text/html": [
       "<div>\n",
       "<style scoped>\n",
       "    .dataframe tbody tr th:only-of-type {\n",
       "        vertical-align: middle;\n",
       "    }\n",
       "\n",
       "    .dataframe tbody tr th {\n",
       "        vertical-align: top;\n",
       "    }\n",
       "\n",
       "    .dataframe thead th {\n",
       "        text-align: right;\n",
       "    }\n",
       "</style>\n",
       "<table border=\"1\" class=\"dataframe\">\n",
       "  <thead>\n",
       "    <tr style=\"text-align: right;\">\n",
       "      <th></th>\n",
       "      <th>revenue</th>\n",
       "      <th>EBITDA</th>\n",
       "      <th>tax</th>\n",
       "      <th>capital_expenditures</th>\n",
       "      <th>working_capital</th>\n",
       "      <th>cash_flow</th>\n",
       "      <th>discount_factor</th>\n",
       "    </tr>\n",
       "  </thead>\n",
       "  <tbody>\n",
       "    <tr>\n",
       "      <th>2021-12-31</th>\n",
       "      <td>222</td>\n",
       "      <td>99.9</td>\n",
       "      <td>-20.979</td>\n",
       "      <td>-6.66</td>\n",
       "      <td>-13.32</td>\n",
       "      <td>58.941</td>\n",
       "      <td>1.000000</td>\n",
       "    </tr>\n",
       "    <tr>\n",
       "      <th>2022-12-31</th>\n",
       "      <td>261.96</td>\n",
       "      <td>117.882</td>\n",
       "      <td>-24.7552</td>\n",
       "      <td>-7.8588</td>\n",
       "      <td>-15.7176</td>\n",
       "      <td>69.5504</td>\n",
       "      <td>0.940000</td>\n",
       "    </tr>\n",
       "    <tr>\n",
       "      <th>2023-12-31</th>\n",
       "      <td>309.113</td>\n",
       "      <td>139.101</td>\n",
       "      <td>-29.2112</td>\n",
       "      <td>-9.27338</td>\n",
       "      <td>-18.5468</td>\n",
       "      <td>82.0694</td>\n",
       "      <td>0.883600</td>\n",
       "    </tr>\n",
       "    <tr>\n",
       "      <th>2024-12-31</th>\n",
       "      <td>364.753</td>\n",
       "      <td>164.139</td>\n",
       "      <td>-34.4692</td>\n",
       "      <td>-10.9426</td>\n",
       "      <td>-21.8852</td>\n",
       "      <td>96.8419</td>\n",
       "      <td>0.830584</td>\n",
       "    </tr>\n",
       "    <tr>\n",
       "      <th>2025-12-31</th>\n",
       "      <td>430.409</td>\n",
       "      <td>193.684</td>\n",
       "      <td>-40.6736</td>\n",
       "      <td>-12.9123</td>\n",
       "      <td>-25.8245</td>\n",
       "      <td>114.273</td>\n",
       "      <td>0.780749</td>\n",
       "    </tr>\n",
       "    <tr>\n",
       "      <th>2026-12-31</th>\n",
       "      <td>507.882</td>\n",
       "      <td>228.547</td>\n",
       "      <td>-47.9949</td>\n",
       "      <td>-15.2365</td>\n",
       "      <td>-30.4729</td>\n",
       "      <td>134.843</td>\n",
       "      <td>0.733904</td>\n",
       "    </tr>\n",
       "    <tr>\n",
       "      <th>2027-12-31</th>\n",
       "      <td>599.301</td>\n",
       "      <td>269.685</td>\n",
       "      <td>-56.6339</td>\n",
       "      <td>-17.979</td>\n",
       "      <td>-35.9581</td>\n",
       "      <td>159.114</td>\n",
       "      <td>0.689870</td>\n",
       "    </tr>\n",
       "    <tr>\n",
       "      <th>2028-12-31</th>\n",
       "      <td>707.175</td>\n",
       "      <td>318.229</td>\n",
       "      <td>-66.8281</td>\n",
       "      <td>-21.2153</td>\n",
       "      <td>-42.4305</td>\n",
       "      <td>187.755</td>\n",
       "      <td>0.648478</td>\n",
       "    </tr>\n",
       "    <tr>\n",
       "      <th>2029-12-31</th>\n",
       "      <td>834.467</td>\n",
       "      <td>375.51</td>\n",
       "      <td>-78.8571</td>\n",
       "      <td>-25.034</td>\n",
       "      <td>-50.068</td>\n",
       "      <td>221.551</td>\n",
       "      <td>0.609569</td>\n",
       "    </tr>\n",
       "    <tr>\n",
       "      <th>2030-12-31</th>\n",
       "      <td>984.671</td>\n",
       "      <td>443.102</td>\n",
       "      <td>-93.0514</td>\n",
       "      <td>-29.5401</td>\n",
       "      <td>-59.0802</td>\n",
       "      <td>261.43</td>\n",
       "      <td>0.572995</td>\n",
       "    </tr>\n",
       "    <tr>\n",
       "      <th>2031-12-31</th>\n",
       "      <td>1161.91</td>\n",
       "      <td>522.86</td>\n",
       "      <td>-109.801</td>\n",
       "      <td>-34.8573</td>\n",
       "      <td>-69.7147</td>\n",
       "      <td>308.488</td>\n",
       "      <td>0.538615</td>\n",
       "    </tr>\n",
       "    <tr>\n",
       "      <th>2032-12-31</th>\n",
       "      <td>1371.06</td>\n",
       "      <td>616.975</td>\n",
       "      <td>-129.565</td>\n",
       "      <td>-41.1317</td>\n",
       "      <td>-82.2633</td>\n",
       "      <td>364.015</td>\n",
       "      <td>0.506298</td>\n",
       "    </tr>\n",
       "  </tbody>\n",
       "</table>\n",
       "</div>"
      ],
      "text/plain": [
       "            revenue   EBITDA  ... cash_flow discount_factor\n",
       "2021-12-31      222     99.9  ...    58.941        1.000000\n",
       "2022-12-31   261.96  117.882  ...   69.5504        0.940000\n",
       "2023-12-31  309.113  139.101  ...   82.0694        0.883600\n",
       "2024-12-31  364.753  164.139  ...   96.8419        0.830584\n",
       "2025-12-31  430.409  193.684  ...   114.273        0.780749\n",
       "2026-12-31  507.882  228.547  ...   134.843        0.733904\n",
       "2027-12-31  599.301  269.685  ...   159.114        0.689870\n",
       "2028-12-31  707.175  318.229  ...   187.755        0.648478\n",
       "2029-12-31  834.467   375.51  ...   221.551        0.609569\n",
       "2030-12-31  984.671  443.102  ...    261.43        0.572995\n",
       "2031-12-31  1161.91   522.86  ...   308.488        0.538615\n",
       "2032-12-31  1371.06  616.975  ...   364.015        0.506298\n",
       "\n",
       "[12 rows x 7 columns]"
      ]
     },
     "execution_count": 11,
     "metadata": {},
     "output_type": "execute_result"
    }
   ],
   "source": [
    "df['discount_factor'] = [(discount_factor ** i) for i in range(len(df))]\n",
    "df"
   ]
  },
  {
   "cell_type": "code",
   "execution_count": 12,
   "metadata": {
    "colab": {
     "base_uri": "https://localhost:8080/",
     "height": 421
    },
    "executionInfo": {
     "elapsed": 34,
     "status": "ok",
     "timestamp": 1635850469656,
     "user": {
      "displayName": "Xiaomei Mi",
      "photoUrl": "https://lh3.googleusercontent.com/a-/AOh14Giek9R9Gc9bcxVEHezlQMFqyWdaHHB0HXnOXKM=s64",
      "userId": "09696294332220019682"
     },
     "user_tz": -480
    },
    "id": "kYvQQcjuBogw",
    "outputId": "573f07f6-1916-4918-ec7e-554724134c31"
   },
   "outputs": [
    {
     "data": {
      "text/html": [
       "<div>\n",
       "<style scoped>\n",
       "    .dataframe tbody tr th:only-of-type {\n",
       "        vertical-align: middle;\n",
       "    }\n",
       "\n",
       "    .dataframe tbody tr th {\n",
       "        vertical-align: top;\n",
       "    }\n",
       "\n",
       "    .dataframe thead th {\n",
       "        text-align: right;\n",
       "    }\n",
       "</style>\n",
       "<table border=\"1\" class=\"dataframe\">\n",
       "  <thead>\n",
       "    <tr style=\"text-align: right;\">\n",
       "      <th></th>\n",
       "      <th>revenue</th>\n",
       "      <th>EBITDA</th>\n",
       "      <th>tax</th>\n",
       "      <th>capital_expenditures</th>\n",
       "      <th>working_capital</th>\n",
       "      <th>cash_flow</th>\n",
       "      <th>discount_factor</th>\n",
       "      <th>present_value_fcf</th>\n",
       "    </tr>\n",
       "  </thead>\n",
       "  <tbody>\n",
       "    <tr>\n",
       "      <th>2021-12-31</th>\n",
       "      <td>222</td>\n",
       "      <td>99.9</td>\n",
       "      <td>-20.979</td>\n",
       "      <td>-6.66</td>\n",
       "      <td>-13.32</td>\n",
       "      <td>58.941</td>\n",
       "      <td>1.000000</td>\n",
       "      <td>58.941</td>\n",
       "    </tr>\n",
       "    <tr>\n",
       "      <th>2022-12-31</th>\n",
       "      <td>261.96</td>\n",
       "      <td>117.882</td>\n",
       "      <td>-24.7552</td>\n",
       "      <td>-7.8588</td>\n",
       "      <td>-15.7176</td>\n",
       "      <td>69.5504</td>\n",
       "      <td>0.940000</td>\n",
       "      <td>65.3774</td>\n",
       "    </tr>\n",
       "    <tr>\n",
       "      <th>2023-12-31</th>\n",
       "      <td>309.113</td>\n",
       "      <td>139.101</td>\n",
       "      <td>-29.2112</td>\n",
       "      <td>-9.27338</td>\n",
       "      <td>-18.5468</td>\n",
       "      <td>82.0694</td>\n",
       "      <td>0.883600</td>\n",
       "      <td>72.5166</td>\n",
       "    </tr>\n",
       "    <tr>\n",
       "      <th>2024-12-31</th>\n",
       "      <td>364.753</td>\n",
       "      <td>164.139</td>\n",
       "      <td>-34.4692</td>\n",
       "      <td>-10.9426</td>\n",
       "      <td>-21.8852</td>\n",
       "      <td>96.8419</td>\n",
       "      <td>0.830584</td>\n",
       "      <td>80.4354</td>\n",
       "    </tr>\n",
       "    <tr>\n",
       "      <th>2025-12-31</th>\n",
       "      <td>430.409</td>\n",
       "      <td>193.684</td>\n",
       "      <td>-40.6736</td>\n",
       "      <td>-12.9123</td>\n",
       "      <td>-25.8245</td>\n",
       "      <td>114.273</td>\n",
       "      <td>0.780749</td>\n",
       "      <td>89.2189</td>\n",
       "    </tr>\n",
       "    <tr>\n",
       "      <th>2026-12-31</th>\n",
       "      <td>507.882</td>\n",
       "      <td>228.547</td>\n",
       "      <td>-47.9949</td>\n",
       "      <td>-15.2365</td>\n",
       "      <td>-30.4729</td>\n",
       "      <td>134.843</td>\n",
       "      <td>0.733904</td>\n",
       "      <td>98.9616</td>\n",
       "    </tr>\n",
       "    <tr>\n",
       "      <th>2027-12-31</th>\n",
       "      <td>599.301</td>\n",
       "      <td>269.685</td>\n",
       "      <td>-56.6339</td>\n",
       "      <td>-17.979</td>\n",
       "      <td>-35.9581</td>\n",
       "      <td>159.114</td>\n",
       "      <td>0.689870</td>\n",
       "      <td>109.768</td>\n",
       "    </tr>\n",
       "    <tr>\n",
       "      <th>2028-12-31</th>\n",
       "      <td>707.175</td>\n",
       "      <td>318.229</td>\n",
       "      <td>-66.8281</td>\n",
       "      <td>-21.2153</td>\n",
       "      <td>-42.4305</td>\n",
       "      <td>187.755</td>\n",
       "      <td>0.648478</td>\n",
       "      <td>121.755</td>\n",
       "    </tr>\n",
       "    <tr>\n",
       "      <th>2029-12-31</th>\n",
       "      <td>834.467</td>\n",
       "      <td>375.51</td>\n",
       "      <td>-78.8571</td>\n",
       "      <td>-25.034</td>\n",
       "      <td>-50.068</td>\n",
       "      <td>221.551</td>\n",
       "      <td>0.609569</td>\n",
       "      <td>135.051</td>\n",
       "    </tr>\n",
       "    <tr>\n",
       "      <th>2030-12-31</th>\n",
       "      <td>984.671</td>\n",
       "      <td>443.102</td>\n",
       "      <td>-93.0514</td>\n",
       "      <td>-29.5401</td>\n",
       "      <td>-59.0802</td>\n",
       "      <td>261.43</td>\n",
       "      <td>0.572995</td>\n",
       "      <td>149.798</td>\n",
       "    </tr>\n",
       "    <tr>\n",
       "      <th>2031-12-31</th>\n",
       "      <td>1161.91</td>\n",
       "      <td>522.86</td>\n",
       "      <td>-109.801</td>\n",
       "      <td>-34.8573</td>\n",
       "      <td>-69.7147</td>\n",
       "      <td>308.488</td>\n",
       "      <td>0.538615</td>\n",
       "      <td>166.156</td>\n",
       "    </tr>\n",
       "    <tr>\n",
       "      <th>2032-12-31</th>\n",
       "      <td>1371.06</td>\n",
       "      <td>616.975</td>\n",
       "      <td>-129.565</td>\n",
       "      <td>-41.1317</td>\n",
       "      <td>-82.2633</td>\n",
       "      <td>364.015</td>\n",
       "      <td>0.506298</td>\n",
       "      <td>184.3</td>\n",
       "    </tr>\n",
       "  </tbody>\n",
       "</table>\n",
       "</div>"
      ],
      "text/plain": [
       "            revenue   EBITDA  ... discount_factor present_value_fcf\n",
       "2021-12-31      222     99.9  ...        1.000000            58.941\n",
       "2022-12-31   261.96  117.882  ...        0.940000           65.3774\n",
       "2023-12-31  309.113  139.101  ...        0.883600           72.5166\n",
       "2024-12-31  364.753  164.139  ...        0.830584           80.4354\n",
       "2025-12-31  430.409  193.684  ...        0.780749           89.2189\n",
       "2026-12-31  507.882  228.547  ...        0.733904           98.9616\n",
       "2027-12-31  599.301  269.685  ...        0.689870           109.768\n",
       "2028-12-31  707.175  318.229  ...        0.648478           121.755\n",
       "2029-12-31  834.467   375.51  ...        0.609569           135.051\n",
       "2030-12-31  984.671  443.102  ...        0.572995           149.798\n",
       "2031-12-31  1161.91   522.86  ...        0.538615           166.156\n",
       "2032-12-31  1371.06  616.975  ...        0.506298             184.3\n",
       "\n",
       "[12 rows x 8 columns]"
      ]
     },
     "execution_count": 12,
     "metadata": {},
     "output_type": "execute_result"
    }
   ],
   "source": [
    "df['present_value_fcf'] = df['cash_flow'] * df['discount_factor']\n",
    "df"
   ]
  },
  {
   "cell_type": "code",
   "execution_count": 13,
   "metadata": {
    "colab": {
     "base_uri": "https://localhost:8080/"
    },
    "executionInfo": {
     "elapsed": 34,
     "status": "ok",
     "timestamp": 1635850469657,
     "user": {
      "displayName": "Xiaomei Mi",
      "photoUrl": "https://lh3.googleusercontent.com/a-/AOh14Giek9R9Gc9bcxVEHezlQMFqyWdaHHB0HXnOXKM=s64",
      "userId": "09696294332220019682"
     },
     "user_tz": -480
    },
    "id": "FXeuA59ID2Zc",
    "outputId": "c073671a-eaea-4c66-b6e7-ebc8d583c8d9"
   },
   "outputs": [
    {
     "data": {
      "text/plain": [
       "2022-12-31    65.3774\n",
       "2023-12-31    72.5166\n",
       "2024-12-31    80.4354\n",
       "2025-12-31    89.2189\n",
       "2026-12-31    98.9616\n",
       "2027-12-31    109.768\n",
       "2028-12-31    121.755\n",
       "2029-12-31    135.051\n",
       "2030-12-31    149.798\n",
       "2031-12-31    166.156\n",
       "Freq: A-DEC, Name: present_value_fcf, dtype: object"
      ]
     },
     "execution_count": 13,
     "metadata": {},
     "output_type": "execute_result"
    }
   ],
   "source": [
    "df.present_value_fcf[1:-1]"
   ]
  },
  {
   "cell_type": "code",
   "execution_count": 14,
   "metadata": {
    "colab": {
     "base_uri": "https://localhost:8080/"
    },
    "executionInfo": {
     "elapsed": 29,
     "status": "ok",
     "timestamp": 1635850469657,
     "user": {
      "displayName": "Xiaomei Mi",
      "photoUrl": "https://lh3.googleusercontent.com/a-/AOh14Giek9R9Gc9bcxVEHezlQMFqyWdaHHB0HXnOXKM=s64",
      "userId": "09696294332220019682"
     },
     "user_tz": -480
    },
    "id": "fwOHcTAYDXtY",
    "outputId": "84fe150b-f077-4be8-ae80-40fbca2e62e0"
   },
   "outputs": [
    {
     "data": {
      "text/plain": [
       "1089.037656673089"
      ]
     },
     "execution_count": 14,
     "metadata": {},
     "output_type": "execute_result"
    }
   ],
   "source": [
    "present_value_of_projected_fcf = df.present_value_fcf[1:-1].sum()\n",
    "present_value_of_projected_fcf"
   ]
  },
  {
   "cell_type": "code",
   "execution_count": 15,
   "metadata": {
    "colab": {
     "base_uri": "https://localhost:8080/"
    },
    "executionInfo": {
     "elapsed": 28,
     "status": "ok",
     "timestamp": 1635850469657,
     "user": {
      "displayName": "Xiaomei Mi",
      "photoUrl": "https://lh3.googleusercontent.com/a-/AOh14Giek9R9Gc9bcxVEHezlQMFqyWdaHHB0HXnOXKM=s64",
      "userId": "09696294332220019682"
     },
     "user_tz": -480
    },
    "id": "i4c4rcvxEY2s",
    "outputId": "7015c292-62d9-45f5-dd44-0bbc6c11e941"
   },
   "outputs": [
    {
     "data": {
      "text/plain": [
       "616.9750027528825"
      ]
     },
     "execution_count": 15,
     "metadata": {},
     "output_type": "execute_result"
    }
   ],
   "source": [
    "df.EBITDA[-1]"
   ]
  },
  {
   "cell_type": "code",
   "execution_count": 16,
   "metadata": {
    "colab": {
     "base_uri": "https://localhost:8080/"
    },
    "executionInfo": {
     "elapsed": 27,
     "status": "ok",
     "timestamp": 1635850469658,
     "user": {
      "displayName": "Xiaomei Mi",
      "photoUrl": "https://lh3.googleusercontent.com/a-/AOh14Giek9R9Gc9bcxVEHezlQMFqyWdaHHB0HXnOXKM=s64",
      "userId": "09696294332220019682"
     },
     "user_tz": -480
    },
    "id": "y-ivoBPOD4Zc",
    "outputId": "738de995-1997-4636-94a0-8d2a8f80a46b"
   },
   "outputs": [
    {
     "data": {
      "text/plain": [
       "20175.082590019258"
      ]
     },
     "execution_count": 16,
     "metadata": {},
     "output_type": "execute_result"
    }
   ],
   "source": [
    "terminal_value = EDBITA_exit_multiple * df.EBITDA[-1]\n",
    "terminal_value"
   ]
  },
  {
   "cell_type": "code",
   "execution_count": 17,
   "metadata": {
    "colab": {
     "base_uri": "https://localhost:8080/"
    },
    "executionInfo": {
     "elapsed": 26,
     "status": "ok",
     "timestamp": 1635850469658,
     "user": {
      "displayName": "Xiaomei Mi",
      "photoUrl": "https://lh3.googleusercontent.com/a-/AOh14Giek9R9Gc9bcxVEHezlQMFqyWdaHHB0HXnOXKM=s64",
      "userId": "09696294332220019682"
     },
     "user_tz": -480
    },
    "id": "dB8-SgtJE0A5",
    "outputId": "da6ca426-eaae-4e5d-e17a-e79b3b8c61ba"
   },
   "outputs": [
    {
     "data": {
      "text/plain": [
       "2031-12-31    0.538615\n",
       "Freq: A-DEC, Name: discount_factor, dtype: float64"
      ]
     },
     "execution_count": 17,
     "metadata": {},
     "output_type": "execute_result"
    }
   ],
   "source": [
    "df.discount_factor['2031']"
   ]
  },
  {
   "cell_type": "code",
   "execution_count": 18,
   "metadata": {
    "colab": {
     "base_uri": "https://localhost:8080/"
    },
    "executionInfo": {
     "elapsed": 25,
     "status": "ok",
     "timestamp": 1635850469659,
     "user": {
      "displayName": "Xiaomei Mi",
      "photoUrl": "https://lh3.googleusercontent.com/a-/AOh14Giek9R9Gc9bcxVEHezlQMFqyWdaHHB0HXnOXKM=s64",
      "userId": "09696294332220019682"
     },
     "user_tz": -480
    },
    "id": "gydQj21hEV6A",
    "outputId": "1c3aefc2-4af3-4732-bf53-3baeadef604c"
   },
   "outputs": [
    {
     "data": {
      "text/plain": [
       "10866.60441109724"
      ]
     },
     "execution_count": 18,
     "metadata": {},
     "output_type": "execute_result"
    }
   ],
   "source": [
    "present_value_of_terminal_value = terminal_value * df.discount_factor[-2]\n",
    "present_value_of_terminal_value"
   ]
  },
  {
   "cell_type": "code",
   "execution_count": 19,
   "metadata": {
    "colab": {
     "base_uri": "https://localhost:8080/"
    },
    "executionInfo": {
     "elapsed": 22,
     "status": "ok",
     "timestamp": 1635850469659,
     "user": {
      "displayName": "Xiaomei Mi",
      "photoUrl": "https://lh3.googleusercontent.com/a-/AOh14Giek9R9Gc9bcxVEHezlQMFqyWdaHHB0HXnOXKM=s64",
      "userId": "09696294332220019682"
     },
     "user_tz": -480
    },
    "id": "N2hHpC0QEzJw",
    "outputId": "3f3bdee5-09be-4b95-91e8-deb6a1d25cfe"
   },
   "outputs": [
    {
     "data": {
      "text/plain": [
       "11955.642067770328"
      ]
     },
     "execution_count": 19,
     "metadata": {},
     "output_type": "execute_result"
    }
   ],
   "source": [
    "present_value_of_asset = present_value_of_projected_fcf + present_value_of_terminal_value\n",
    "present_value_of_asset"
   ]
  },
  {
   "cell_type": "code",
   "execution_count": 23,
   "metadata": {
    "colab": {
     "base_uri": "https://localhost:8080/"
    },
    "executionInfo": {
     "elapsed": 630,
     "status": "ok",
     "timestamp": 1635850542612,
     "user": {
      "displayName": "Xiaomei Mi",
      "photoUrl": "https://lh3.googleusercontent.com/a-/AOh14Giek9R9Gc9bcxVEHezlQMFqyWdaHHB0HXnOXKM=s64",
      "userId": "09696294332220019682"
     },
     "user_tz": -480
    },
    "id": "tEaqSxgaFiQx",
    "outputId": "be0c1813-568e-4f20-d959-dd0d7e0c1274"
   },
   "outputs": [
    {
     "name": "stdout",
     "output_type": "stream",
     "text": [
      "\n",
      "Our projected Present Value of Projected Future Cash Flows are: 1089.04.\n",
      "\n",
      "We are providing revenue guidance in 2032 to be: 1371.06\n",
      "\n",
      "With an estimated EBITDA around: 616.98.\n",
      "\n",
      "The terminal value a this time given a multiple of 32.70 and the above EBITDA for 2030, would equal: 10866.60.\n",
      "\n",
      "\n"
     ]
    }
   ],
   "source": [
    "statement = f\"\"\"\n",
    "Our projected Present Value of Projected Future Cash Flows are: {present_value_of_projected_fcf:.2f}.\n",
    "\n",
    "We are providing revenue guidance in 2032 to be: {df.loc[\"2032\", \"revenue\"].values[0]:.2f}\n",
    "\n",
    "With an estimated EBITDA around: {df.loc[\"2032\", \"EBITDA\"][0]:.2f}.\n",
    "\n",
    "The terminal value a this time given a multiple of {EDBITA_exit_multiple:.2f} and the above EBITDA for 2030, would equal: {present_value_of_terminal_value:.2f}.\n",
    "\n",
    "\"\"\"\n",
    "\n",
    "print(statement)"
   ]
  },
  {
   "cell_type": "code",
   "execution_count": null,
   "metadata": {
    "id": "Dd0T5HcySdCR"
   },
   "outputs": [],
   "source": []
  }
 ],
 "metadata": {
  "colab": {
   "authorship_tag": "ABX9TyNOUAXwKRpIpHCmqIxhNAVy",
   "collapsed_sections": [],
   "name": "DCF.ipynb",
   "provenance": []
  },
  "kernelspec": {
   "display_name": "Python 3",
   "language": "python",
   "name": "python3"
  },
  "language_info": {
   "codemirror_mode": {
    "name": "ipython",
    "version": 3
   },
   "file_extension": ".py",
   "mimetype": "text/x-python",
   "name": "python",
   "nbconvert_exporter": "python",
   "pygments_lexer": "ipython3",
   "version": "3.8.5"
  }
 },
 "nbformat": 4,
 "nbformat_minor": 1
}
